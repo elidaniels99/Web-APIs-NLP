{
 "cells": [
  {
   "cell_type": "markdown",
   "id": "6cbd76e6-d3e7-4333-a12c-79cfcb2aea95",
   "metadata": {},
   "source": [
    "### 3. NLP & Modeling"
   ]
  },
  {
   "cell_type": "code",
   "execution_count": 3,
   "id": "124da188-52ad-489f-96fc-d79a6bdbfa6b",
   "metadata": {
    "tags": []
   },
   "outputs": [],
   "source": [
    "#imports\n",
    "import numpy as np\n",
    "import pandas as pd\n",
    "import seaborn as sns\n",
    "import matplotlib.pyplot as plt\n",
    "from nltk.corpus import stopwords\n",
    "from nltk.tokenize import RegexpTokenizer\n",
    "from nltk.stem import WordNetLemmatizer\n",
    "from nltk.stem.porter import PorterStemmer\n",
    "from nltk.tokenize import word_tokenize\n",
    "import nltk\n",
    "import spacy\n",
    "import re\n",
    "import string\n",
    "from sklearn.dummy import DummyClassifier\n",
    "from sklearn.feature_extraction.text import CountVectorizer, TfidfVectorizer, TfidfTransformer\n",
    "from sklearn.pipeline import Pipeline\n",
    "from sklearn.naive_bayes import MultinomialNB\n",
    "from sklearn.model_selection import train_test_split, GridSearchCV\n",
    "from sklearn.linear_model import LogisticRegressionCV\n",
    "from sklearn.linear_model import LogisticRegression\n",
    "from sklearn.ensemble import RandomForestClassifier\n",
    "from sklearn.neighbors import KNeighborsClassifier\n",
    "from sklearn.metrics import classification_report, RocCurveDisplay\n",
    "from textblob import TextBlob"
   ]
  },
  {
   "cell_type": "code",
   "execution_count": 4,
   "id": "0b5431a4-88f5-4deb-99ff-54d4391b692f",
   "metadata": {
    "tags": []
   },
   "outputs": [],
   "source": [
    "final = pd.read_csv('updated_combined_FINAL.csv')"
   ]
  },
  {
   "cell_type": "code",
   "execution_count": 9,
   "id": "e7573ed6-cac9-473e-89f3-269aaa63e8da",
   "metadata": {
    "tags": []
   },
   "outputs": [],
   "source": [
    "final['Selftext'].fillna('', inplace=True)"
   ]
  },
  {
   "cell_type": "markdown",
   "id": "8d5642f7-e5ff-4af5-8e24-a631b9a26446",
   "metadata": {},
   "source": [
    "## Finding our Baseline score using Target as our y variables"
   ]
  },
  {
   "cell_type": "code",
   "execution_count": 10,
   "id": "3b86c3d7-80c0-4541-a4eb-2b8b5e617c45",
   "metadata": {
    "tags": []
   },
   "outputs": [],
   "source": [
    "X = final['Selftext']\n",
    "y = final['Target']"
   ]
  },
  {
   "cell_type": "code",
   "execution_count": 11,
   "id": "7540eddf-82d5-42ae-8afc-e929616271b8",
   "metadata": {
    "tags": []
   },
   "outputs": [
    {
     "data": {
      "text/plain": [
       "0    0.50262\n",
       "1    0.49738\n",
       "Name: Target, dtype: float64"
      ]
     },
     "execution_count": 11,
     "metadata": {},
     "output_type": "execute_result"
    }
   ],
   "source": [
    "y.value_counts(normalize = True)"
   ]
  },
  {
   "cell_type": "code",
   "execution_count": 12,
   "id": "63eeb03e-2548-441d-955d-5cade397af41",
   "metadata": {
    "tags": []
   },
   "outputs": [],
   "source": [
    "X_train, X_test, y_train, y_test = train_test_split(X, y, random_state=42)"
   ]
  },
  {
   "cell_type": "code",
   "execution_count": 14,
   "id": "54fa67f3-70dd-4158-afda-e48039a95108",
   "metadata": {
    "tags": []
   },
   "outputs": [],
   "source": [
    "# Create a dummy classifier that predicts the majority class (0 or 1)\n",
    "dummy_classifier = DummyClassifier(strategy='most_frequent')"
   ]
  },
  {
   "cell_type": "code",
   "execution_count": 15,
   "id": "43779a25-a089-49c5-80d1-828f82169a91",
   "metadata": {
    "tags": []
   },
   "outputs": [
    {
     "data": {
      "text/html": [
       "<style>#sk-container-id-1 {color: black;background-color: white;}#sk-container-id-1 pre{padding: 0;}#sk-container-id-1 div.sk-toggleable {background-color: white;}#sk-container-id-1 label.sk-toggleable__label {cursor: pointer;display: block;width: 100%;margin-bottom: 0;padding: 0.3em;box-sizing: border-box;text-align: center;}#sk-container-id-1 label.sk-toggleable__label-arrow:before {content: \"▸\";float: left;margin-right: 0.25em;color: #696969;}#sk-container-id-1 label.sk-toggleable__label-arrow:hover:before {color: black;}#sk-container-id-1 div.sk-estimator:hover label.sk-toggleable__label-arrow:before {color: black;}#sk-container-id-1 div.sk-toggleable__content {max-height: 0;max-width: 0;overflow: hidden;text-align: left;background-color: #f0f8ff;}#sk-container-id-1 div.sk-toggleable__content pre {margin: 0.2em;color: black;border-radius: 0.25em;background-color: #f0f8ff;}#sk-container-id-1 input.sk-toggleable__control:checked~div.sk-toggleable__content {max-height: 200px;max-width: 100%;overflow: auto;}#sk-container-id-1 input.sk-toggleable__control:checked~label.sk-toggleable__label-arrow:before {content: \"▾\";}#sk-container-id-1 div.sk-estimator input.sk-toggleable__control:checked~label.sk-toggleable__label {background-color: #d4ebff;}#sk-container-id-1 div.sk-label input.sk-toggleable__control:checked~label.sk-toggleable__label {background-color: #d4ebff;}#sk-container-id-1 input.sk-hidden--visually {border: 0;clip: rect(1px 1px 1px 1px);clip: rect(1px, 1px, 1px, 1px);height: 1px;margin: -1px;overflow: hidden;padding: 0;position: absolute;width: 1px;}#sk-container-id-1 div.sk-estimator {font-family: monospace;background-color: #f0f8ff;border: 1px dotted black;border-radius: 0.25em;box-sizing: border-box;margin-bottom: 0.5em;}#sk-container-id-1 div.sk-estimator:hover {background-color: #d4ebff;}#sk-container-id-1 div.sk-parallel-item::after {content: \"\";width: 100%;border-bottom: 1px solid gray;flex-grow: 1;}#sk-container-id-1 div.sk-label:hover label.sk-toggleable__label {background-color: #d4ebff;}#sk-container-id-1 div.sk-serial::before {content: \"\";position: absolute;border-left: 1px solid gray;box-sizing: border-box;top: 0;bottom: 0;left: 50%;z-index: 0;}#sk-container-id-1 div.sk-serial {display: flex;flex-direction: column;align-items: center;background-color: white;padding-right: 0.2em;padding-left: 0.2em;position: relative;}#sk-container-id-1 div.sk-item {position: relative;z-index: 1;}#sk-container-id-1 div.sk-parallel {display: flex;align-items: stretch;justify-content: center;background-color: white;position: relative;}#sk-container-id-1 div.sk-item::before, #sk-container-id-1 div.sk-parallel-item::before {content: \"\";position: absolute;border-left: 1px solid gray;box-sizing: border-box;top: 0;bottom: 0;left: 50%;z-index: -1;}#sk-container-id-1 div.sk-parallel-item {display: flex;flex-direction: column;z-index: 1;position: relative;background-color: white;}#sk-container-id-1 div.sk-parallel-item:first-child::after {align-self: flex-end;width: 50%;}#sk-container-id-1 div.sk-parallel-item:last-child::after {align-self: flex-start;width: 50%;}#sk-container-id-1 div.sk-parallel-item:only-child::after {width: 0;}#sk-container-id-1 div.sk-dashed-wrapped {border: 1px dashed gray;margin: 0 0.4em 0.5em 0.4em;box-sizing: border-box;padding-bottom: 0.4em;background-color: white;}#sk-container-id-1 div.sk-label label {font-family: monospace;font-weight: bold;display: inline-block;line-height: 1.2em;}#sk-container-id-1 div.sk-label-container {text-align: center;}#sk-container-id-1 div.sk-container {/* jupyter's `normalize.less` sets `[hidden] { display: none; }` but bootstrap.min.css set `[hidden] { display: none !important; }` so we also need the `!important` here to be able to override the default hidden behavior on the sphinx rendered scikit-learn.org. See: https://github.com/scikit-learn/scikit-learn/issues/21755 */display: inline-block !important;position: relative;}#sk-container-id-1 div.sk-text-repr-fallback {display: none;}</style><div id=\"sk-container-id-1\" class=\"sk-top-container\"><div class=\"sk-text-repr-fallback\"><pre>DummyClassifier(strategy=&#x27;most_frequent&#x27;)</pre><b>In a Jupyter environment, please rerun this cell to show the HTML representation or trust the notebook. <br />On GitHub, the HTML representation is unable to render, please try loading this page with nbviewer.org.</b></div><div class=\"sk-container\" hidden><div class=\"sk-item\"><div class=\"sk-estimator sk-toggleable\"><input class=\"sk-toggleable__control sk-hidden--visually\" id=\"sk-estimator-id-1\" type=\"checkbox\" checked><label for=\"sk-estimator-id-1\" class=\"sk-toggleable__label sk-toggleable__label-arrow\">DummyClassifier</label><div class=\"sk-toggleable__content\"><pre>DummyClassifier(strategy=&#x27;most_frequent&#x27;)</pre></div></div></div></div></div>"
      ],
      "text/plain": [
       "DummyClassifier(strategy='most_frequent')"
      ]
     },
     "execution_count": 15,
     "metadata": {},
     "output_type": "execute_result"
    }
   ],
   "source": [
    "dummy_classifier.fit(X_train, y_train)"
   ]
  },
  {
   "cell_type": "code",
   "execution_count": 16,
   "id": "36bff6eb-ccfe-44bb-bf04-b8545c3fc038",
   "metadata": {
    "tags": []
   },
   "outputs": [],
   "source": [
    "# Make predictions on the test data using the dummy classifier\n",
    "y_pred = dummy_classifier.predict(X_test)"
   ]
  },
  {
   "cell_type": "code",
   "execution_count": 11,
   "id": "1fec2ced-a1be-4f28-8602-292eee5fd08c",
   "metadata": {
    "tags": []
   },
   "outputs": [
    {
     "name": "stdout",
     "output_type": "stream",
     "text": [
      "Baseline Accuracy: 0.4868263473053892\n"
     ]
    }
   ],
   "source": [
    "# Calculate the accuracy of the baseline model\n",
    "baseline_accuracy = accuracy_score(y_test, y_pred)\n",
    "\n",
    "print(\"Baseline Accuracy:\", baseline_accuracy)"
   ]
  },
  {
   "cell_type": "markdown",
   "id": "68bda447-72c7-4dbe-be2b-fa7f7bd961ee",
   "metadata": {},
   "source": [
    "**Baseline accuracy is close to (50%), indicating that the task of predicting the 'Target' column might be challenging using a simple majority class prediction. To improve the performance we need to consider using more advanced machine learning models or techniques to capture more meaningful patterns in the data**"
   ]
  },
  {
   "cell_type": "code",
   "execution_count": 12,
   "id": "641a440e-5ad9-4216-8ffc-7b2ea02bc2da",
   "metadata": {
    "tags": []
   },
   "outputs": [
    {
     "data": {
      "text/plain": [
       "(6679, 7)"
      ]
     },
     "execution_count": 12,
     "metadata": {},
     "output_type": "execute_result"
    }
   ],
   "source": [
    "#Solid amount of rows/posts to use\n",
    "final.shape"
   ]
  },
  {
   "cell_type": "code",
   "execution_count": 42,
   "id": "c8dac6c1-e875-4fe6-8e41-80f91c0a916e",
   "metadata": {
    "tags": []
   },
   "outputs": [],
   "source": [
    "vectorizer = CountVectorizer(stop_words='english')"
   ]
  },
  {
   "cell_type": "code",
   "execution_count": 43,
   "id": "2b0b0e44-ded4-4bdd-9e77-4f93e7e168d4",
   "metadata": {
    "tags": []
   },
   "outputs": [],
   "source": [
    "X = vectorizer.fit_transform(final['Selftext'])"
   ]
  },
  {
   "cell_type": "code",
   "execution_count": 19,
   "id": "2c0ed88c-b432-45a7-9c8f-665eb85f69d7",
   "metadata": {
    "tags": []
   },
   "outputs": [],
   "source": [
    "feature_names = vectorizer.get_feature_names_out()"
   ]
  },
  {
   "cell_type": "code",
   "execution_count": 117,
   "id": "f1634bd1-0505-4eb4-81de-9e28532b90f6",
   "metadata": {
    "tags": []
   },
   "outputs": [
    {
     "name": "stdout",
     "output_type": "stream",
     "text": [
      "frozenset({'anyone', 'behind', 'even', 'beyond', 'himself', 'mostly', 'off', 'twelve', 'rather', 'see', 'last', 'thereafter', 'indeed', 'keep', 'were', 'bottom', 'still', 'becoming', 'then', 'could', 'un', 'co', 'sometime', 'please', 'nevertheless', 'besides', 'whereby', 'hereafter', 'twenty', 'system', 'seems', 'somehow', 'else', 'thereupon', 'hereby', 'nowhere', 'into', 'several', 'part', 'onto', 'ie', 'side', 'only', 'former', 'noone', 'us', 'about', 'without', 're', 'found', 'after', 'bill', 'where', 'for', 'few', 'take', 'his', 'perhaps', 'above', 'might', 'beside', 'six', 'wherever', 'amongst', 'was', 'thin', 'give', 'latterly', 'or', 'beforehand', 'most', 'me', 'a', 'being', 'per', 'well', 'became', 'i', 'herself', 'too', 'also', 'itself', 'we', 'who', 'either', 'whereas', 'over', 'every', 'yet', 'what', 'whole', 'been', 'nothing', 'cry', 'can', 'otherwise', 'not', 'many', 'again', 'thus', 'others', 'yourself', 'less', 'hers', 'couldnt', 'call', 'describe', 'and', 'here', 'since', 'eleven', 'on', 'sometimes', 'those', 'is', 'whenever', 'with', 'below', 'other', 'first', 'among', 'whence', 'no', 'be', 'may', 'nor', 'our', 'if', 'sincere', 'has', 'around', 'so', 'very', 'detail', 'they', 'one', 'move', 'another', 'throughout', 'across', 'latter', 'everything', 'three', 'when', 'fill', 'thereby', 'both', 'within', 'upon', 'my', 'during', 'them', 'somewhere', 'hence', 'there', 'never', 'hundred', 'ten', 'etc', 'would', 'but', 'eight', 'made', 'ours', 'someone', 'are', 'against', 'whose', 'to', 'the', 'ourselves', 'hasnt', 'once', 'seemed', 'always', 'your', 'whereafter', 'due', 'this', 'anyhow', 'except', 'afterwards', 'up', 'whom', 'therefore', 'between', 'under', 'amoungst', 'some', 'towards', 'an', 'wherein', 'becomes', 'namely', 'become', 'toward', 'anyway', 'cannot', 'before', 'everyone', 'why', 'anywhere', 'do', 'of', 'have', 'by', 'themselves', 'through', 'five', 'two', 'although', 'inc', 'meanwhile', 'myself', 'their', 'amount', 'eg', 'yourselves', 'therein', 'herein', 'top', 'than', 'out', 'at', 'front', 'along', 'ever', 'such', 'find', 'all', 'thick', 'nobody', 'show', 'go', 'mine', 'because', 'him', 'however', 'moreover', 'am', 'often', 'something', 'fifty', 'any', 'empty', 'more', 'already', 'he', 'will', 'whoever', 'same', 'her', 'con', 'must', 'sixty', 'much', 'neither', 'interest', 'whereupon', 'fifteen', 'done', 'get', 'though', 'whither', 'alone', 'everywhere', 'formerly', 'name', 'hereupon', 'enough', 'seeming', 'elsewhere', 'cant', 'least', 'anything', 'its', 'down', 'these', 'serious', 'seem', 'now', 'ltd', 'almost', 'from', 'whatever', 'yours', 'had', 'next', 'how', 'each', 'further', 'which', 'that', 'while', 'fire', 'as', 'own', 'via', 'until', 'whether', 'thence', 'forty', 'mill', 'third', 'she', 'put', 'it', 'together', 'should', 'de', 'full', 'thru', 'nine', 'you', 'back', 'in', 'none', 'four'})\n"
     ]
    }
   ],
   "source": [
    "print(CountVectorizer(stop_words = 'english').get_stop_words())"
   ]
  },
  {
   "cell_type": "code",
   "execution_count": 44,
   "id": "a6cd1050-ff15-45a3-b825-e69a2a28837b",
   "metadata": {
    "tags": []
   },
   "outputs": [
    {
     "data": {
      "image/png": "[encoded data removed]",
      "text/plain": [
       "<Figure size 1200x800 with 1 Axes>"
      ]
     },
     "metadata": {},
     "output_type": "display_data"
    }
   ],
   "source": [
    "word_counts = np.array(X.sum(axis=0)).squeeze()\n",
    "\n",
    "# DataFrame to hold the feature names and their corresponding counts\n",
    "features_df = pd.DataFrame({'Feature': feature_names, 'Count': word_counts})\n",
    "\n",
    "sorted_features_df = features_df.sort_values(by='Count', ascending=False)\n",
    "\n",
    "# Plotting the top occurring words\n",
    "top_n = 20  \n",
    "plt.figure(figsize=(12, 8))\n",
    "plt.barh(sorted_features_df['Feature'][:top_n], sorted_features_df['Count'][:top_n])\n",
    "plt.xlabel('Count')\n",
    "plt.ylabel('Words')\n",
    "plt.title(f'Top {top_n} Occurring Words')\n",
    "plt.gca().invert_yaxis()  # Invert y-axis to have the most common word on top\n",
    "plt.show()"
   ]
  },
  {
   "cell_type": "code",
   "execution_count": 45,
   "id": "d9d9c2a3-0de0-4a8b-8df8-97ce100443f7",
   "metadata": {
    "tags": []
   },
   "outputs": [],
   "source": [
    "cvec = CountVectorizer(stop_words='english', ngram_range=(1, 2))"
   ]
  },
  {
   "cell_type": "code",
   "execution_count": 46,
   "id": "2dc903e0-a44f-4095-a2f8-f51907d26e90",
   "metadata": {},
   "outputs": [],
   "source": [
    "X_train_tfidf = cvec.fit_transform(X_train)"
   ]
  },
  {
   "cell_type": "code",
   "execution_count": 47,
   "id": "3f2f55d1-a6e9-425d-9492-a19d779631fb",
   "metadata": {},
   "outputs": [],
   "source": [
    "X_train_df = pd.DataFrame(X_train_tfidf.todense(), columns=cvec.get_feature_names_out())"
   ]
  },
  {
   "cell_type": "code",
   "execution_count": 49,
   "id": "8c85a2ec-0ad6-4a24-84d7-25541f8fce2c",
   "metadata": {
    "tags": []
   },
   "outputs": [
    {
     "name": "stdout",
     "output_type": "stream",
     "text": [
      "just      2074\n",
      "like      2016\n",
      "mcu       1271\n",
      "marvel    1264\n",
      "think     1094\n",
      "fury      1019\n",
      "people     977\n",
      "movie      976\n",
      "know       946\n",
      "new        876\n",
      "secret     862\n",
      "time       821\n",
      "man        811\n",
      "don        808\n",
      "really     793\n",
      "dtype: int64\n"
     ]
    }
   ],
   "source": [
    "word_counts = X_train_df.sum()\n",
    "\n",
    "top_fifteen = word_counts.sort_values(ascending = False).head(15)\n",
    "\n",
    "print(top_fifteen)"
   ]
  },
  {
   "cell_type": "code",
   "execution_count": 52,
   "id": "f53b0eb0-16eb-4648-87ec-3790a9af9526",
   "metadata": {
    "tags": []
   },
   "outputs": [
    {
     "name": "stdout",
     "output_type": "stream",
     "text": [
      "Top fifteen words and their corresponding TF-IDF coefficients:\n",
      "like: 0.41485326412457574\n",
      "just: 0.4050708724296267\n",
      "mcu: 0.2725094829307247\n",
      "marvel: 0.2495508085446197\n",
      "think: 0.22319824316230785\n",
      "movie: 0.20602914753443802\n",
      "people: 0.19125573966859652\n",
      "know: 0.19085645837492513\n",
      "fury: 0.18027550409263327\n",
      "new: 0.17728089439009784\n",
      "secret: 0.1688959872229986\n",
      "time: 0.16809742463565583\n",
      "don: 0.16150928329007785\n",
      "really: 0.1553204232381713\n",
      "man: 0.1545218606508285\n"
     ]
    }
   ],
   "source": [
    "X_train_counts = cvec.fit_transform(X_train)\n",
    "X_train_df = pd.DataFrame(X_train_counts.todense(), columns=cvec.get_feature_names_out())\n",
    "\n",
    "# Step 3: Get the word counts and find the top fifteen words\n",
    "word_counts = X_train_counts.sum(axis=0)\n",
    "word_counts = word_counts.A1  # Convert the sparse matrix to a 1-dimensional array\n",
    "feature_names = cvec.get_feature_names_out()\n",
    "top_fifteen_indices = word_counts.argsort()[::-1][:15]\n",
    "top_fifteen_words = [feature_names[idx] for idx in top_fifteen_indices]\n",
    "\n",
    "# Step 4: Calculate and print the TF-IDF coefficients for the top fifteen words\n",
    "tfidf_values_top_fifteen = [X_train_df[word].mean() for word in top_fifteen_words]\n",
    "\n",
    "print(\"Top fifteen words and their corresponding TF-IDF coefficients:\")\n",
    "for word, coef in zip(top_fifteen_words, tfidf_values_top_fifteen):\n",
    "    print(f\"{word}: {coef}\")"
   ]
  },
  {
   "cell_type": "markdown",
   "id": "a671283b-b8e4-494b-8503-34ca1ffb5d5a",
   "metadata": {
    "tags": []
   },
   "source": [
    "Although these words appear frequently in the analyzed text some are not very common across all documents in the corpus. It might be indicative of common sentiments expressed in the discussions. I believe we can get more relavent information looking at multiple words and phrases"
   ]
  },
  {
   "cell_type": "markdown",
   "id": "10bf6b52-511f-4105-9128-6eb1815cbced",
   "metadata": {},
   "source": [
    "## N-Gram"
   ]
  },
  {
   "cell_type": "markdown",
   "id": "b9bd773f-c80d-4f56-9a05-5eec5411cec1",
   "metadata": {},
   "source": [
    "#### Using ngram_range to determine what phrases should be considered as features"
   ]
  },
  {
   "cell_type": "code",
   "execution_count": 62,
   "id": "b59f39fe-fe23-4992-ad5a-f891a2af84b6",
   "metadata": {
    "tags": []
   },
   "outputs": [
    {
     "name": "stdout",
     "output_type": "stream",
     "text": [
      "                Bigram  Count\n",
      "50354  secret invasion    851\n",
      "7131   captain america    343\n",
      "28550         iron man    322\n",
      "7138    captain marvel    263\n",
      "53789       spider man    257\n",
      "29801   justice league    237\n",
      "8704         civil war    221\n",
      "14791         don know    212\n",
      "39446        nick fury    203\n",
      "15372        earth 616    195\n",
      "19141        feel like    190\n",
      "2460           ant man    187\n",
      "23622    green lantern    185\n",
      "5607     black panther    181\n",
      "51325        shang chi    173\n",
      "14411   doctor strange    169\n",
      "50375      secret wars    162\n",
      "27513     infinity war    157\n",
      "37779      moon knight    145\n",
      "1674     agents shield    142\n"
     ]
    }
   ],
   "source": [
    "vectorizer = CountVectorizer(ngram_range=(2, 2), stop_words='english')\n",
    "\n",
    "matrix = vectorizer.fit_transform(final['Selftext'])\n",
    "\n",
    "vocab = vectorizer.get_feature_names_out()\n",
    "\n",
    "bi_counts = matrix.sum(axis=0)\n",
    "\n",
    "bigram_df = pd.DataFrame({\n",
    "    'Bigram': vocab,\n",
    "    'Count': bi_counts.flat\n",
    "})\n",
    "\n",
    "bigram_df_sorted = bigram_df.sort_values(by='Count', ascending=False)\n",
    "\n",
    "print(bigram_df_sorted.head(20))"
   ]
  },
  {
   "cell_type": "markdown",
   "id": "6e19f1ff-1fe1-44d2-80a7-ef8c28b8e1ed",
   "metadata": {},
   "source": [
    "These bigrams and their counts provide insights into commonly occurring pairs of words in the analyzed text data. They can help identify recurring themes, characters, or topics of discussion within the Marvel and DC Comics contexts.\n",
    "\n",
    "**A recurring analysis I've noticed using insight from posts in both subbreddits is that Marvel related superheros are talked more frequently than DC superheroes. Also Marvel superheros are more well known than DC ones outside of Superman and Batman**"
   ]
  },
  {
   "cell_type": "markdown",
   "id": "f2ec284b-971c-40db-a1c3-0e3a1995945c",
   "metadata": {},
   "source": [
    "## lemmatization "
   ]
  },
  {
   "cell_type": "code",
   "execution_count": 39,
   "id": "7e12f082-4e2f-41b6-8233-56d644670ade",
   "metadata": {
    "tags": []
   },
   "outputs": [],
   "source": [
    "nlp = spacy.load('en_core_web_sm')"
   ]
  },
  {
   "cell_type": "code",
   "execution_count": 40,
   "id": "7fe83d25-99e0-4264-9c5e-6c02e78dd076",
   "metadata": {
    "tags": []
   },
   "outputs": [],
   "source": [
    "final['Lemmatized_Selftext'] = final['Selftext'].apply(lambda text: \" \".join([token.lemma_ for token in nlp(text)]))"
   ]
  },
  {
   "cell_type": "code",
   "execution_count": 44,
   "id": "0953fdc8-7366-4ecc-a3da-2174a71a2db5",
   "metadata": {
    "tags": []
   },
   "outputs": [
    {
     "name": "stdout",
     "output_type": "stream",
     "text": [
      "Accuracy using 'Selftext': 0.8869760479041916\n",
      "Accuracy using 'Lemmatized_Selftext': 0.8854790419161677\n"
     ]
    }
   ],
   "source": [
    "X_original = final['Selftext']\n",
    "X_lemmatized = final['Lemmatized_Selftext']\n",
    "y = final['Target']  \n",
    "\n",
    "X_train_orig, X_test_orig, y_train, y_test = train_test_split(X_original, y, test_size=0.2, random_state=42)\n",
    "X_train_lem, X_test_lem, _, _ = train_test_split(X_lemmatized, y, test_size=0.2, random_state=42)\n",
    "\n",
    "tfidf_vectorizer = TfidfVectorizer(max_features=10000)  \n",
    "X_train_tfidf_orig = tfidf_vectorizer.fit_transform(X_train_orig)\n",
    "X_test_tfidf_orig = tfidf_vectorizer.transform(X_test_orig)\n",
    "\n",
    "X_train_tfidf_lem = tfidf_vectorizer.fit_transform(X_train_lem)\n",
    "X_test_tfidf_lem = tfidf_vectorizer.transform(X_test_lem)\n",
    "\n",
    "model_orig = LogisticRegression()\n",
    "model_orig.fit(X_train_tfidf_orig, y_train)\n",
    "\n",
    "model_lem = LogisticRegression()\n",
    "model_lem.fit(X_train_tfidf_lem, y_train)\n",
    "\n",
    "y_pred_orig = model_orig.predict(X_test_tfidf_orig)\n",
    "y_pred_lem = model_lem.predict(X_test_tfidf_lem)\n",
    "\n",
    "accuracy_orig = accuracy_score(y_test, y_pred_orig)\n",
    "accuracy_lem = accuracy_score(y_test, y_pred_lem)\n",
    "\n",
    "print(\"Accuracy using 'Selftext':\", accuracy_orig)\n",
    "print(\"Accuracy using 'Lemmatized_Selftext':\", accuracy_lem)\n"
   ]
  },
  {
   "cell_type": "markdown",
   "id": "12f4af84-9fd5-4966-b50c-dee498940827",
   "metadata": {
    "tags": []
   },
   "source": [
    "Our Lemmatized Text data didn't provide a stronger predictor for our Target, so we will focus our attention elsewhere"
   ]
  },
  {
   "cell_type": "code",
   "execution_count": 185,
   "id": "6cd326a8-bfab-4b19-a06a-7a37ec43e854",
   "metadata": {
    "scrolled": true,
    "tags": []
   },
   "outputs": [
    {
     "data": {
      "text/plain": [
       "['the',\n",
       " 'she',\n",
       " 'hulk',\n",
       " 'finale',\n",
       " 'jen',\n",
       " 'calls',\n",
       " 'out',\n",
       " 'and',\n",
       " 'marvel',\n",
       " 'for',\n",
       " 'using',\n",
       " 'the',\n",
       " 'villains',\n",
       " 'stealing',\n",
       " 'blood',\n",
       " 'for',\n",
       " 'the',\n",
       " 'hero',\n",
       " '’',\n",
       " 'powers',\n",
       " 'plot',\n",
       " 'line',\n",
       " 'and',\n",
       " 'called',\n",
       " 'redundant',\n",
       " 'and',\n",
       " 'repetitive',\n",
       " 'the',\n",
       " 'genre',\n",
       " 'while',\n",
       " 'also',\n",
       " 'stating',\n",
       " 'that',\n",
       " 'was',\n",
       " 'just',\n",
       " 'thrown',\n",
       " 'there',\n",
       " 'with',\n",
       " 'plot',\n",
       " 'lines',\n",
       " 'that',\n",
       " 'have',\n",
       " 'nothing',\n",
       " 'deal',\n",
       " 'with',\n",
       " 'the',\n",
       " 'main',\n",
       " 'plot',\n",
       " 'vision',\n",
       " 'the',\n",
       " 'show',\n",
       " 'sound',\n",
       " 'familiar',\n",
       " 'obviously',\n",
       " 'was',\n",
       " 'done',\n",
       " 'meta',\n",
       " 'joke',\n",
       " 'but',\n",
       " 'what',\n",
       " '’',\n",
       " 'ironic',\n",
       " 'that',\n",
       " 'they',\n",
       " 'essentially',\n",
       " 'the',\n",
       " 'same',\n",
       " 'type',\n",
       " 'thing',\n",
       " 'with',\n",
       " 'secret',\n",
       " 'invasion',\n",
       " 'and',\n",
       " 'the',\n",
       " 'harvest',\n",
       " 'could',\n",
       " 'add',\n",
       " 'wood',\n",
       " 'fire',\n",
       " 'and',\n",
       " 'give',\n",
       " 'essay',\n",
       " 'about',\n",
       " 'the',\n",
       " 'problems',\n",
       " 'think',\n",
       " 'that',\n",
       " 'secret',\n",
       " 'invasion',\n",
       " 'had',\n",
       " 'but',\n",
       " 'one',\n",
       " 'the',\n",
       " 'biggest',\n",
       " 'think',\n",
       " 'the',\n",
       " 'fact',\n",
       " 'that',\n",
       " 'the',\n",
       " 'ending',\n",
       " 'did',\n",
       " 'not',\n",
       " 'satisfy',\n",
       " 'any',\n",
       " 'major',\n",
       " 'character',\n",
       " 'plots',\n",
       " 'that',\n",
       " 'they',\n",
       " 'started',\n",
       " 'and',\n",
       " 'the',\n",
       " 'led',\n",
       " 'the',\n",
       " 'show',\n",
       " 'with',\n",
       " 'and',\n",
       " 'chose',\n",
       " 'satisfy',\n",
       " 'this',\n",
       " '“',\n",
       " 'event',\n",
       " '”',\n",
       " 'with',\n",
       " 'plot',\n",
       " 'line',\n",
       " 'they',\n",
       " 'threw',\n",
       " 'together',\n",
       " 'with',\n",
       " 'the',\n",
       " 'last',\n",
       " 'two',\n",
       " 'episodes',\n",
       " 'marvel',\n",
       " '”',\n",
       " '”',\n",
       " 'whole',\n",
       " 'has',\n",
       " 'had',\n",
       " 'its',\n",
       " 'hits',\n",
       " 'and',\n",
       " 'misses',\n",
       " 'imo',\n",
       " 'and',\n",
       " 'has',\n",
       " 'not',\n",
       " 'all',\n",
       " 'been',\n",
       " 'bad',\n",
       " 'but',\n",
       " 'with',\n",
       " 'the',\n",
       " 'agenda',\n",
       " 'pushing',\n",
       " 'quality',\n",
       " 'over',\n",
       " 'quantity',\n",
       " 'now',\n",
       " 'hope',\n",
       " 'they',\n",
       " 'can',\n",
       " 'take',\n",
       " 'the',\n",
       " 'chance',\n",
       " 'review',\n",
       " 'where',\n",
       " 'they',\n",
       " 'fell',\n",
       " 'short',\n",
       " 'whatever',\n",
       " 'arenas',\n",
       " 'and',\n",
       " 'move',\n",
       " 'forward']"
      ]
     },
     "execution_count": 185,
     "metadata": {},
     "output_type": "execute_result"
    }
   ],
   "source": [
    "word_tokenize(selected_selftext)"
   ]
  },
  {
   "cell_type": "code",
   "execution_count": 53,
   "id": "460e767e-e7a2-4fca-a335-b744f773ab81",
   "metadata": {
    "tags": []
   },
   "outputs": [
    {
     "name": "stdout",
     "output_type": "stream",
     "text": [
      "Naive Bayes Accuracy: 0.8787425149700598\n",
      "Logistic Regression Accuracy: 0.8914670658682635\n",
      "Random Forest Accuracy: 0.8907185628742516\n",
      "\n",
      "Naive Bayes Classification Report:\n",
      "              precision    recall  f1-score   support\n",
      "\n",
      "           0       0.81      0.99      0.89       656\n",
      "           1       0.99      0.77      0.87       680\n",
      "\n",
      "    accuracy                           0.88      1336\n",
      "   macro avg       0.90      0.88      0.88      1336\n",
      "weighted avg       0.90      0.88      0.88      1336\n",
      "\n",
      "\n",
      "Logistic Regression Classification Report:\n",
      "              precision    recall  f1-score   support\n",
      "\n",
      "           0       0.82      1.00      0.90       656\n",
      "           1       1.00      0.79      0.88       680\n",
      "\n",
      "    accuracy                           0.89      1336\n",
      "   macro avg       0.91      0.89      0.89      1336\n",
      "weighted avg       0.91      0.89      0.89      1336\n",
      "\n",
      "\n",
      "Random Forest Classification Report:\n",
      "              precision    recall  f1-score   support\n",
      "\n",
      "           0       0.82      0.99      0.90       656\n",
      "           1       0.99      0.79      0.88       680\n",
      "\n",
      "    accuracy                           0.89      1336\n",
      "   macro avg       0.91      0.89      0.89      1336\n",
      "weighted avg       0.91      0.89      0.89      1336\n",
      "\n"
     ]
    }
   ],
   "source": [
    "X = final['Selftext']\n",
    "y = final['Target']\n",
    "\n",
    "X_train, X_test, y_train, y_test = train_test_split(X, y, test_size=0.2, random_state=42)\n",
    "\n",
    "vectorizer = CountVectorizer()  \n",
    "\n",
    "# Convert text data to feature vectors\n",
    "X_train_vectors = vectorizer.fit_transform(X_train)\n",
    "X_test_vectors = vectorizer.transform(X_test)\n",
    "\n",
    "naive_bayes_model = MultinomialNB()\n",
    "logistic_regression_model = LogisticRegression(max_iter=1000, random_state=42)\n",
    "random_forest_model = RandomForestClassifier(random_state=42)\n",
    "\n",
    "naive_bayes_model.fit(X_train_vectors, y_train)\n",
    "logistic_regression_model.fit(X_train_vectors, y_train)\n",
    "random_forest_model.fit(X_train_vectors, y_train)\n",
    "\n",
    "# Predictions \n",
    "nb_predictions = naive_bayes_model.predict(X_test_vectors)\n",
    "lr_predictions = logistic_regression_model.predict(X_test_vectors)\n",
    "rf_predictions = random_forest_model.predict(X_test_vectors)\n",
    "\n",
    "# Evaluate \n",
    "nb_accuracy = accuracy_score(y_test, nb_predictions)\n",
    "lr_accuracy = accuracy_score(y_test, lr_predictions)\n",
    "rf_accuracy = accuracy_score(y_test, rf_predictions)\n",
    "\n",
    "print(\"Naive Bayes Accuracy:\", nb_accuracy)\n",
    "print(\"Logistic Regression Accuracy:\", lr_accuracy)\n",
    "print(\"Random Forest Accuracy:\", rf_accuracy)\n",
    "\n",
    "print(\"\\nNaive Bayes Classification Report:\")\n",
    "print(classification_report(y_test, nb_predictions))\n",
    "\n",
    "print(\"\\nLogistic Regression Classification Report:\")\n",
    "print(classification_report(y_test, lr_predictions))\n",
    "\n",
    "print(\"\\nRandom Forest Classification Report:\")\n",
    "print(classification_report(y_test, rf_predictions))"
   ]
  },
  {
   "cell_type": "markdown",
   "id": "c96978b9-0eb0-4674-9f3d-1714467ed6fa",
   "metadata": {},
   "source": [
    "#### all three models showed good accuracy on the test set, with Logistic Regression having the highest accuracy"
   ]
  },
  {
   "cell_type": "markdown",
   "id": "2469ed9e-d631-4f6e-a838-bb62a0d26c87",
   "metadata": {},
   "source": [
    "### Evaluation and Conceptual Understanding\n",
    "We can check our model's precisions getting the False Positives (FP), True Positives (TP), True Negatives (TN), and False Negatives (FN) from our best model."
   ]
  },
  {
   "cell_type": "code",
   "execution_count": 71,
   "id": "357d7a16-6cf6-46dd-ac31-80356d22a8b5",
   "metadata": {
    "tags": []
   },
   "outputs": [
    {
     "name": "stdout",
     "output_type": "stream",
     "text": [
      "Confusion Matrix:\n",
      "[[655   1]\n",
      " [146 534]]\n",
      "Accuracy on Testing Data: 89.00%\n"
     ]
    },
    {
     "data": {
      "image/png": "[encoded data removed]",
      "text/plain": [
       "<Figure size 800x600 with 2 Axes>"
      ]
     },
     "metadata": {},
     "output_type": "display_data"
    }
   ],
   "source": [
    "lr = LogisticRegression()\n",
    "\n",
    "lr.fit(X_train_counts, y_train)\n",
    "\n",
    "X_test_counts = vectorizer.transform(X_test)\n",
    "\n",
    "y_pred = lr.predict(X_test_counts)\n",
    "\n",
    "conf_matrix = confusion_matrix(y_test, y_pred)\n",
    "\n",
    "print(\"Confusion Matrix:\")\n",
    "print(conf_matrix)\n",
    "\n",
    "accuracy = accuracy_score(y_test, y_pred)\n",
    "print(\"Accuracy on Testing Data: {:.2f}%\".format(accuracy * 100))\n",
    "\n",
    "plt.figure(figsize=(8, 6))\n",
    "sns.heatmap(conf_matrix, annot=True, fmt=\"d\", cmap=\"Blues\", xticklabels=['Class 0', 'Class 1'], yticklabels=['Class 0', 'Class 1'])\n",
    "plt.xlabel('Predicted')\n",
    "plt.ylabel('True')\n",
    "plt.title('Confusion Matrix')\n",
    "plt.show()"
   ]
  },
  {
   "cell_type": "code",
   "execution_count": 72,
   "id": "19017103-6b90-480f-a9ea-ad288b802f82",
   "metadata": {
    "tags": []
   },
   "outputs": [
    {
     "name": "stdout",
     "output_type": "stream",
     "text": [
      "Specificity: 1.00\n",
      "Recall: 0.79\n"
     ]
    }
   ],
   "source": [
    "true_negatives, false_positives, false_negatives, true_positives = conf_matrix.ravel()\n",
    "\n",
    "# Calculate specificity and recall\n",
    "specificity = true_negatives / (true_negatives + false_positives)\n",
    "recall = true_positives / (true_positives + false_negatives)\n",
    "\n",
    "# Print specificity and recall\n",
    "print(\"Specificity: {:.2f}\".format(specificity))\n",
    "print(\"Recall: {:.2f}\".format(recall))"
   ]
  },
  {
   "cell_type": "markdown",
   "id": "489a12d5-f383-40ed-9af0-ec144de1ef70",
   "metadata": {
    "tags": []
   },
   "source": [
    "## Roc Curve"
   ]
  },
  {
   "cell_type": "code",
   "execution_count": 81,
   "id": "acfb1947-8556-4eb5-bbfe-8aa49ea3f59b",
   "metadata": {
    "tags": []
   },
   "outputs": [
    {
     "data": {
      "image/png": "[encoded data removed]",
      "text/plain": [
       "<Figure size 640x480 with 1 Axes>"
      ]
     },
     "metadata": {},
     "output_type": "display_data"
    }
   ],
   "source": [
    "lr = LogisticRegression()\n",
    "\n",
    "lr.fit(X_train_counts, y_train)\n",
    "\n",
    "X_test_counts = vectorizer.transform(X_test)\n",
    "\n",
    "y_pred = lr.predict(X_test_counts)\n",
    "\n",
    "y_probs = lr.predict_proba(X_test_counts)[:, 1]\n",
    "\n",
    "# Calculate the false positive rate, true positive rate, and thresholds for ROC curve\n",
    "fpr, tpr, thresholds = roc_curve(y_test, y_probs)\n",
    "\n",
    "roc_auc = auc(fpr, tpr)\n",
    "\n",
    "disp = RocCurveDisplay(fpr=fpr, tpr=tpr, roc_auc=roc_auc, estimator_name='Logistic Regression')\n",
    "disp.plot()\n",
    "\n",
    "plt.xlabel('False Positive Rate (FPR)')\n",
    "plt.ylabel('True Positive Rate (TPR)')\n",
    "plt.title('Receiver Operating Characteristic (ROC) Curve')\n",
    "plt.legend(loc='lower right')\n",
    "plt.show()\n"
   ]
  },
  {
   "cell_type": "markdown",
   "id": "3f62c042-9a44-42db-852b-471e16f7a5d8",
   "metadata": {},
   "source": [
    "#### (AUC) of 0.94 indicates that the model has a strong ability to discriminate between positive and negative instances"
   ]
  },
  {
   "cell_type": "markdown",
   "id": "4b1ed5da-f583-4915-bdd5-f4c3ab88b411",
   "metadata": {},
   "source": [
    "## Creating multiple models: MultinomialNB, LogisticRegression, RandomForest, KNeighborsClassifier, RF with GridSearchCV"
   ]
  },
  {
   "cell_type": "code",
   "execution_count": 44,
   "id": "8c805899-345c-433b-8e1b-d132af9d9c79",
   "metadata": {
    "tags": []
   },
   "outputs": [
    {
     "name": "stdout",
     "output_type": "stream",
     "text": [
      "------------- Model 1 MNB --------------\n",
      "Train Score: \t0.8790\n",
      "Test Score: \t0.8671\n",
      "\n",
      "\n",
      "------------- Model 2 Logr -------------\n",
      "Train Score: \t0.8890\n",
      "Test Score: \t0.8784\n",
      "\n",
      "\n",
      "--------- Model 3 RandomForest ---------\n",
      "Train Score: \t0.8890\n",
      "Test Score: \t0.8743\n",
      "\n",
      "\n",
      "------------- Model 4 KNN --------------\n",
      "Train Score: \t0.8491\n",
      "Test Score: \t0.7880\n",
      "\n",
      "\n",
      "------ Model 5 RandomForest Grid -------\n",
      "Parameter: \t{'rf__max_depth': None, 'rf__max_features': 0.5, 'rf__n_estimators': 150}\n",
      "Train Score: \t0.8890\n",
      "Test Score: \t0.8772\n",
      "\n",
      "\n"
     ]
    }
   ],
   "source": [
    "# Train-Test-Split\n",
    "X = final['Selftext']\n",
    "y = final['Target']\n",
    "\n",
    "X_train, X_test, y_train, y_test = train_test_split(X, y, random_state=7, stratify=y)\n",
    "\n",
    "\n",
    "# Model 1\n",
    "pipe_1 = Pipeline([\n",
    "    ('cv', CountVectorizer(min_df=2)),\n",
    "    ('mnb', MultinomialNB())\n",
    "])\n",
    "\n",
    "pipe_1.fit(X_train, y_train)\n",
    "print(' Model 1 MNB '.center(40, '-'))\n",
    "print(f'Train Score: \\t{pipe_1.score(X_train, y_train):.4f}')\n",
    "print(f'Test Score: \\t{pipe_1.scbore(X_test, y_test):.4f}')\n",
    "print('\\n')\n",
    "\n",
    "# Model 2\n",
    "pipe_2 = Pipeline([\n",
    "    ('cv', CountVectorizer(min_df=2)),\n",
    "    ('logr', LogisticRegressionCV(solver='liblinear'))\n",
    "])\n",
    "\n",
    "pipe_2.fit(X_train, y_train)\n",
    "print(' Model 2 Logr '.center(40, '-'))\n",
    "print(f'Train Score: \\t{pipe_2.score(X_train, y_train):.4f}')\n",
    "print(f'Test Score: \\t{pipe_2.score(X_test, y_test):.4f}')\n",
    "print('\\n')\n",
    "\n",
    "# Model 3\n",
    "pipe_3 = Pipeline([\n",
    "    ('cv', CountVectorizer(min_df=2)),\n",
    "    ('rf', RandomForestClassifier())\n",
    "])\n",
    "\n",
    "pipe_3.fit(X_train, y_train)\n",
    "print(' Model 3 RandomForest '.center(40, '-'))\n",
    "print(f'Train Score: \\t{pipe_3.score(X_train, y_train):.4f}')\n",
    "print(f'Test Score: \\t{pipe_3.score(X_test, y_test):.4f}')\n",
    "print('\\n')\n",
    "\n",
    "\n",
    "# Model 4\n",
    "pipe_4 = Pipeline([\n",
    "    ('cv', CountVectorizer(min_df=2)),\n",
    "    ('knn', KNeighborsClassifier())\n",
    "])\n",
    "\n",
    "pipe_4.fit(X_train, y_train)\n",
    "print(' Model 4 KNN '.center(40, '-'))\n",
    "print(f'Train Score: \\t{pipe_4.score(X_train, y_train):.4f}')\n",
    "print(f'Test Score: \\t{pipe_4.score(X_test, y_test):.4f}')\n",
    "print('\\n')\n",
    "\n",
    "\n",
    "# Model 5\n",
    "pipe_5 = Pipeline([\n",
    "    ('cv', CountVectorizer(min_df=2)),\n",
    "    ('rf', RandomForestClassifier())\n",
    "])\n",
    "\n",
    "params = {\n",
    "    'rf__n_estimators': [100, 150, 200],\n",
    "    'rf__max_depth': [None, 1, 2, 3, 4, 5],\n",
    "    'rf__max_features': ['sqrt', 0.5]\n",
    "}\n",
    "\n",
    "grid = GridSearchCV(pipe_5, param_grid=params, cv=5, n_jobs=-1)\n",
    "\n",
    "grid.fit(X_train, y_train)\n",
    "print(' Model 5 RandomForest Grid '.center(40, '-'))\n",
    "print(f'Parameter: \\t{grid.best_params_}')\n",
    "print(f'Train Score: \\t{grid.score(X_train, y_train):.4f}')\n",
    "print(f'Test Score: \\t{grid.score(X_test, y_test):.4f}')\n",
    "print('\\n')"
   ]
  },
  {
   "cell_type": "markdown",
   "id": "4bc6cc54-097a-43ae-8429-336563fd462f",
   "metadata": {},
   "source": [
    "Multinomial NB: model is performing reasonably well on both the training and testing datasets. It's a simple probabilistic classifier that works well with text data, but it might not capture more complex relationships.\n",
    "\n",
    "Logistic Regression: Best-fitting line to separate the classes. This model performed slightly better than the MNB in terms of testing accuracy.\n",
    "\n",
    "KNN: In this case, it seems to be performing worse compared to the other models, indicating that the data might not be well-suited for this algorithm\n",
    "\n",
    "Random Forest Classifier with Grid Search: Optimized version of the Random Forest model using hyperparameter tuning through a grid search. It achieved a training accuracy of 88.90% and a testing accuracy of 87.72%. The hyperparameters have been tuned to improve the model's performance, resulting in accuracy close to the original Random Forest model."
   ]
  },
  {
   "cell_type": "markdown",
   "id": "a56fab22-164d-4db6-ad17-b2ac4425b8b3",
   "metadata": {},
   "source": [
    "#### Our models seem to be performing very well, so lets try to make it more interesting for our prediction by removing the top superhero names from each Subreddit"
   ]
  },
  {
   "cell_type": "markdown",
   "id": "b1a1190c-7091-4445-a5b4-d7a3d72876cd",
   "metadata": {
    "tags": []
   },
   "source": [
    "### Would the model be able to predict which Subbreddit by removing top superhero names from the equation."
   ]
  },
  {
   "cell_type": "markdown",
   "id": "949b45d7-88eb-46e9-9c65-5113a70f88ae",
   "metadata": {
    "tags": []
   },
   "source": [
    "Since we know the top words and bi-grams from each subbreddit we can use those to remove"
   ]
  },
  {
   "cell_type": "code",
   "execution_count": 74,
   "id": "768753e9-d9b8-43d5-86cc-6d66de877e81",
   "metadata": {
    "tags": []
   },
   "outputs": [
    {
     "name": "stdout",
     "output_type": "stream",
     "text": [
      "Accuracy: 0.8885\n",
      "Classification Report:\n",
      "               precision    recall  f1-score   support\n",
      "\n",
      "           0       0.82      1.00      0.90       656\n",
      "           1       1.00      0.78      0.88       680\n",
      "\n",
      "    accuracy                           0.89      1336\n",
      "   macro avg       0.91      0.89      0.89      1336\n",
      "weighted avg       0.91      0.89      0.89      1336\n",
      "\n"
     ]
    }
   ],
   "source": [
    "superhero_names = [\n",
    "    'secret invasion', 'captain america', 'iron man', 'captain marvel', 'spider man',\n",
    "    'justice league', 'civil war', 'don know', 'nick fury', 'earth 616',\n",
    "    'feel like', 'ant man', 'green lantern', 'black panther', 'shang chi',\n",
    "    'doctor strange', 'secret wars', 'infinity war', 'moon knight', 'agents shield',\n",
    "    'black widow', 'winter soldier', 'wonder woman', 'guardians galaxy',\n",
    "    'don think', 'post credit', 'new world', 'multiverse saga', 'tony stark',\n",
    "    'love thunder', 'armor wars', 'marvel studios', 'make sense', 'super skrull',\n",
    "    'multiverse madness', 'lot people', 'felt like', 'way home', 'pjpgauto webps',\n",
    "    'jpg width', 'credit scene', 'feels like', 'makes sense', 'bruce wayne',\n",
    "    'scarlet witch', 'harley quinn', 'view poll', 'shows movies', 'man wasp',\n",
    "    'war machine', \"Justice League\", \"Green Lantern\", \"Wonder Woman\", \"justice league\", \n",
    "    \"want read\", \"feel like\", \"reading comics\", \"League Season\", \n",
    "    \"just finished\", \"reading order\"\n",
    "]\n",
    "\n",
    "# Remove rows with the top superhero names from the 'Selftext' column\n",
    "final['Selftext'] = final['Selftext'].apply(lambda text: ' '.join(word for word in text.split() if word.lower() not in superhero_names))\n",
    "\n",
    "X = final['Selftext']\n",
    "y = final['Target']\n",
    "X_train, X_test, y_train, y_test = train_test_split(X, y, test_size=0.2, random_state=42)\n",
    "\n",
    "vectorizer = TfidfVectorizer(ngram_range=(2, 2), stop_words='english')\n",
    "X_train_vectorized = vectorizer.fit_transform(X_train)\n",
    "X_test_vectorized = vectorizer.transform(X_test)\n",
    "\n",
    "model = MultinomialNB()\n",
    "model.fit(X_train_vectorized, y_train)\n",
    "\n",
    "y_pred = model.predict(X_test_vectorized)\n",
    "\n",
    "accuracy = accuracy_score(y_test, y_pred)\n",
    "print(f\"Accuracy: {accuracy:.4f}\")\n",
    "\n",
    "report = classification_report(y_test, y_pred)\n",
    "print(\"Classification Report:\\n\", report)"
   ]
  },
  {
   "cell_type": "code",
   "execution_count": null,
   "id": "47b4f927-b235-485e-80fb-0da0c19e233f",
   "metadata": {
    "tags": []
   },
   "outputs": [],
   "source": []
  },
  {
   "cell_type": "markdown",
   "id": "68b34d41-4e59-4c70-92f3-e39ab10aab5d",
   "metadata": {},
   "source": [
    "### Bi-Gram seemed to provide the most insight into our subbreddits so I will exapnd more to possibly get more insight"
   ]
  },
  {
   "cell_type": "code",
   "execution_count": 85,
   "id": "6d29c42f-bbcf-40c8-bf78-e9331aea88c8",
   "metadata": {
    "tags": []
   },
   "outputs": [
    {
     "name": "stdout",
     "output_type": "stream",
     "text": [
      "                   Bigram  Count\n",
      "50354     secret invasion    851\n",
      "7131      captain america    343\n",
      "28550            iron man    322\n",
      "7138       captain marvel    263\n",
      "53789          spider man    257\n",
      "29801      justice league    237\n",
      "8704            civil war    221\n",
      "14791            don know    212\n",
      "39446           nick fury    203\n",
      "15372           earth 616    195\n",
      "19141           feel like    190\n",
      "2460              ant man    187\n",
      "23622       green lantern    185\n",
      "5607        black panther    181\n",
      "51325           shang chi    173\n",
      "14411      doctor strange    169\n",
      "50375         secret wars    162\n",
      "27513        infinity war    157\n",
      "37779         moon knight    145\n",
      "1674        agents shield    142\n",
      "5611          black widow    140\n",
      "64577      winter soldier    136\n",
      "64840        wonder woman    131\n",
      "23808    guardians galaxy    123\n",
      "14844           don think    121\n",
      "43306         post credit    116\n",
      "39366           new world    107\n",
      "38517     multiverse saga    106\n",
      "59793          tony stark    102\n",
      "34201        love thunder     93\n",
      "3038           armor wars     90\n",
      "35653      marvel studios     89\n",
      "34764          make sense     87\n",
      "55986        super skrull     85\n",
      "38504  multiverse madness     84\n",
      "34045          lot people     81\n",
      "19321           felt like     80\n",
      "63819            way home     78\n",
      "42325      pjpgauto webps     77\n",
      "29198           jpg width     77\n",
      "11384        credit scene     75\n",
      "19234          feels like     75\n",
      "34855         makes sense     75\n",
      "6548          bruce wayne     71\n",
      "49762       scarlet witch     71\n",
      "24516        harley quinn     70\n",
      "62052           view poll     70\n",
      "51952        shows movies     69\n",
      "35187            man wasp     69\n",
      "63144         war machine     68\n"
     ]
    }
   ],
   "source": [
    "vectorizer = CountVectorizer(ngram_range=(2, 2), stop_words='english')\n",
    "\n",
    "matrix = vectorizer.fit_transform(final['Selftext'])\n",
    "\n",
    "vocab = vectorizer.get_feature_names_out()\n",
    "\n",
    "bi_counts = matrix.sum(axis=0)\n",
    "\n",
    "bigram_df = pd.DataFrame({\n",
    "    'Bigram': vocab,\n",
    "    'Count': bi_counts.flat\n",
    "})\n",
    "\n",
    "bigram_df_sorted = bigram_df.sort_values(by='Count', ascending=False)\n",
    "\n",
    "print(bigram_df_sorted.head(50))"
   ]
  },
  {
   "cell_type": "markdown",
   "id": "d6c1b450-24a5-40e6-bd8e-1cd9749ee185",
   "metadata": {},
   "source": [
    "### Show the next set of bi-grams. \n",
    "### How would removing these common phrases affect our prediction model and displaying the next set of words."
   ]
  },
  {
   "cell_type": "code",
   "execution_count": 98,
   "id": "00dd263e-1c14-40b4-b1b0-aaa741c53b95",
   "metadata": {
    "tags": []
   },
   "outputs": [
    {
     "name": "stdout",
     "output_type": "stream",
     "text": [
      "                    Bigram  Count\n",
      "29426        just finished     68\n",
      "9341            comic book     68\n",
      "51476        shield season     67\n",
      "18391        falcon winter     67\n",
      "38372         movies shows     65\n",
      "6249             brave new     64\n",
      "29511            just like     64\n",
      "33648            long time     63\n",
      "14855             don want     63\n",
      "2346       animated series     61\n",
      "14245         disney shows     60\n",
      "48122        rhodey skrull     60\n",
      "27509        infinity saga     60\n",
      "65867            years ago     59\n",
      "41560          people just     59\n",
      "42872        pngauto webps     59\n",
      "35304           maria hill     59\n",
      "42871            png width     59\n",
      "28948        jessica jones     59\n",
      "29889         kang dynasty     58\n",
      "58554            thor love     58\n",
      "61688           utm source     57\n",
      "53533      source shareutm     57\n",
      "51388      shareutm medium     57\n",
      "35570        marvel movies     57\n",
      "14230          disney plus     56\n",
      "62544      wakanda forever     56\n",
      "8900          cloak dagger     55\n",
      "24006           guys think     54\n",
      "57342          teen titans     54\n",
      "65714            x200b jpg     53\n",
      "50189      season episodes     52\n",
      "34327            luke cage     51\n",
      "36665  medium web2xcontext     50\n",
      "33835           looks like     50\n",
      "39370             new york     50\n",
      "31887          legion doom     49\n",
      "4523            bat family     49\n",
      "29763            just want     48\n",
      "22007          geoff johns     48\n",
      "55226   strange multiverse     48\n",
      "46142          really like     47\n",
      "7257         carol danvers     47\n",
      "3828        avengers movie     47\n",
      "33509          loki season     47\n",
      "32520          like marvel     46\n",
      "62891            want read     46\n",
      "1638            age ultron     45\n",
      "45672          read comics     45\n",
      "8226       characters like     45\n"
     ]
    }
   ],
   "source": [
    "bigram_words_to_remove = [\n",
    "    'secret invasion', 'captain america', 'iron man', 'captain marvel', 'spider man',\n",
    "    'justice league', 'civil war', 'don know', 'nick fury', 'earth 616',\n",
    "    'feel like', 'ant man', 'green lantern', 'black panther', 'shang chi',\n",
    "    'doctor strange', 'secret wars', 'infinity war', 'moon knight', 'agents shield',\n",
    "    'black widow', 'winter soldier', 'wonder woman', 'guardians galaxy',\n",
    "    'don think', 'post credit', 'new world', 'multiverse saga', 'tony stark',\n",
    "    'love thunder', 'armor wars', 'marvel studios', 'make sense', 'super skrull',\n",
    "    'multiverse madness', 'lot people', 'felt like', 'way home', 'pjpgauto webps',\n",
    "    'jpg width', 'credit scene', 'feels like', 'makes sense', 'bruce wayne',\n",
    "    'scarlet witch', 'harley quinn', 'view poll', 'shows movies', 'man wasp',\n",
    "    'war machine'\n",
    "]\n",
    "\n",
    "vectorizer = CountVectorizer(ngram_range=(2, 2), stop_words='english')\n",
    "\n",
    "matrix = vectorizer.fit_transform(final['Selftext'])\n",
    "\n",
    "vocab = vectorizer.get_feature_names_out()\n",
    "\n",
    "bi_counts = matrix.sum(axis=0)\n",
    "bigram_df = pd.DataFrame({\n",
    "    'Bigram': vocab,\n",
    "    'Count': bi_counts.flat\n",
    "})\n",
    "\n",
    "bigram_df_filtered = bigram_df[~bigram_df['Bigram'].isin(bigram_words_to_remove)]\n",
    "\n",
    "bigram_df_sorted = bigram_df_filtered.sort_values(by='Count', ascending=False)\n",
    "\n",
    "print(bigram_df_sorted.head(50))"
   ]
  },
  {
   "cell_type": "markdown",
   "id": "25b35628-834f-4e4b-8511-34b7cb6f9956",
   "metadata": {},
   "source": [
    "## Creating a new prediction model with the bigram words removed"
   ]
  },
  {
   "cell_type": "code",
   "execution_count": 68,
   "id": "a447a702-136d-465b-9d86-74f2e6e3f198",
   "metadata": {
    "tags": []
   },
   "outputs": [],
   "source": [
    "from sklearn.naive_bayes import MultinomialNB\n",
    "from sklearn.metrics import accuracy_score, classification_report"
   ]
  },
  {
   "cell_type": "code",
   "execution_count": 69,
   "id": "290c844e-0182-4b47-9f44-c242d472e278",
   "metadata": {},
   "outputs": [
    {
     "name": "stdout",
     "output_type": "stream",
     "text": [
      "Accuracy: 0.8877\n",
      "Classification Report:\n",
      "               precision    recall  f1-score   support\n",
      "\n",
      "           0       0.81      1.00      0.90       656\n",
      "           1       1.00      0.78      0.88       680\n",
      "\n",
      "    accuracy                           0.89      1336\n",
      "   macro avg       0.91      0.89      0.89      1336\n",
      "weighted avg       0.91      0.89      0.89      1336\n",
      "\n"
     ]
    }
   ],
   "source": [
    "bigram_words_to_remove = [\n",
    "    'secret invasion', 'captain america', 'iron man', 'captain marvel', 'spider man',\n",
    "    'justice league', 'civil war', 'don know', 'nick fury', 'earth 616',\n",
    "    'feel like', 'ant man', 'green lantern', 'black panther', 'shang chi',\n",
    "    'doctor strange', 'secret wars', 'infinity war', 'moon knight', 'agents shield',\n",
    "    'black widow', 'winter soldier', 'wonder woman', 'guardians galaxy',\n",
    "    'don think', 'post credit', 'new world', 'multiverse saga', 'tony stark',\n",
    "    'love thunder', 'armor wars', 'marvel studios', 'make sense', 'super skrull',\n",
    "    'multiverse madness', 'lot people', 'felt like', 'way home', 'pjpgauto webps',\n",
    "    'jpg width', 'credit scene', 'feels like', 'makes sense', 'bruce wayne',\n",
    "    'scarlet witch', 'harley quinn', 'view poll', 'shows movies', 'man wasp',\n",
    "    'war machine'\n",
    "]\n",
    "\n",
    "final['Selftext'] = final['Selftext'].apply(\n",
    "    lambda text: ' '.join(bigram for bigram in text.split() if bigram.lower() not in bigram_words_to_remove)\n",
    ")\n",
    "\n",
    "X = final['Selftext']\n",
    "y = final['Target']\n",
    "\n",
    "X_train, X_test, y_train, y_test = train_test_split(X, y, test_size=0.2, random_state=42)\n",
    "\n",
    "vectorizer = CountVectorizer(ngram_range=(2, 2), stop_words='english')\n",
    "\n",
    "X_train_vectorized = vectorizer.fit_transform(X_train)\n",
    "\n",
    "X_test_vectorized = vectorizer.transform(X_test)\n",
    "\n",
    "model = MultinomialNB()\n",
    "\n",
    "model.fit(X_train_vectorized, y_train)\n",
    "\n",
    "y_pred = model.predict(X_test_vectorized)\n",
    "\n",
    "accuracy = accuracy_score(y_test, y_pred)\n",
    "print(f\"Accuracy: {accuracy:.4f}\")\n",
    "\n",
    "report = classification_report(y_test, y_pred)\n",
    "print(\"Classification Report:\\n\", report)"
   ]
  },
  {
   "cell_type": "markdown",
   "id": "34acf306-f4ac-4a07-98af-6abd6aefe048",
   "metadata": {},
   "source": [
    "Even after eliminating the most prominent bi-gram words and superhero names from the dataset, the model continues to exhibit a robust level of accuracy in predicting the designated target. This outcome underscores the model's resilience and capability to generalize its predictive power beyond the most dominant linguistic features and terms"
   ]
  },
  {
   "cell_type": "markdown",
   "id": "95c98b3d-376d-4d85-8b0c-e7005699eae1",
   "metadata": {
    "tags": []
   },
   "source": [
    "### Running Sentiment Analysis on Each Subreddit to Determine Positive Sentiment"
   ]
  },
  {
   "cell_type": "code",
   "execution_count": 62,
   "id": "10426ef6-03ad-45e0-a0d9-8ff5adc12256",
   "metadata": {},
   "outputs": [],
   "source": [
    "ms = pd.read_csv('combined_MS.csv')"
   ]
  },
  {
   "cell_type": "code",
   "execution_count": 63,
   "id": "1c7f6d9e-3f60-4a67-baa7-c77be79bc9ba",
   "metadata": {},
   "outputs": [],
   "source": [
    "dc = pd.read_csv('combined_DC.csv')"
   ]
  },
  {
   "cell_type": "code",
   "execution_count": 71,
   "id": "5bd3a4e2-d7d7-44bd-bc67-da912c3939cf",
   "metadata": {
    "tags": []
   },
   "outputs": [],
   "source": [
    "ms.dropna(subset=['Selftext'], inplace=True)\n",
    "dc.dropna(subset=['Selftext'], inplace=True)"
   ]
  },
  {
   "cell_type": "code",
   "execution_count": 72,
   "id": "0cb9bb48-acef-4f44-b3aa-ff488be51867",
   "metadata": {},
   "outputs": [],
   "source": [
    "def get_sentiment(text):\n",
    "    analysis = TextBlob(text)\n",
    "    return analysis.sentiment.polarity"
   ]
  },
  {
   "cell_type": "code",
   "execution_count": 73,
   "id": "8fddf31d-1a6f-485f-8ddd-ddc612490b5d",
   "metadata": {
    "tags": []
   },
   "outputs": [],
   "source": [
    "ms['sentiment'] = ms['Selftext'].apply(get_sentiment)\n",
    "dc['sentiment'] = dc['Selftext'].apply(get_sentiment)"
   ]
  },
  {
   "cell_type": "code",
   "execution_count": 74,
   "id": "eac04ee1-3ef7-4cab-ad8c-3387bd34f7b1",
   "metadata": {
    "tags": []
   },
   "outputs": [
    {
     "name": "stdout",
     "output_type": "stream",
     "text": [
      "Average sentiment polarity for MS subreddit: 0.08172666381067456\n",
      "Average sentiment polarity for DC subreddit: 0.10581706025033777\n"
     ]
    }
   ],
   "source": [
    "ms_avg_sentiment = ms['sentiment'].mean()\n",
    "dc_avg_sentiment = dc['sentiment'].mean()\n",
    "\n",
    "print(f\"Average sentiment polarity for MS subreddit: {ms_avg_sentiment}\")\n",
    "print(f\"Average sentiment polarity for DC subreddit: {dc_avg_sentiment}\")"
   ]
  },
  {
   "cell_type": "code",
   "execution_count": 75,
   "id": "83ffe2bd-bc55-4624-92cc-9050cdfc6aab",
   "metadata": {
    "tags": []
   },
   "outputs": [
    {
     "name": "stdout",
     "output_type": "stream",
     "text": [
      "The DC subreddit has more positive mentions.\n"
     ]
    }
   ],
   "source": [
    "if ms_avg_sentiment > dc_avg_sentiment:\n",
    "    print(\"The MS subreddit has more positive mentions.\")\n",
    "elif ms_avg_sentiment < dc_avg_sentiment:\n",
    "    print(\"The DC subreddit has more positive mentions.\")\n",
    "else:\n",
    "    print(\"Both subreddits have similar average sentiment polarities.\")"
   ]
  },
  {
   "cell_type": "markdown",
   "id": "9ff03da7-162d-44f0-aa80-7216214e6098",
   "metadata": {},
   "source": [
    "#### 1 indicates a strongly negative sentiment\n",
    "#### 0 indicates a neutral sentiment\n",
    "#### +1 indicates a strongly positive sentiment\n",
    "#### In this case, the sentiment polarity scores are:\n",
    "\n",
    "#### Average sentiment polarity for MS subreddit: 0.0817 (Slightly positive)\n",
    "#### Average sentiment polarity for DC subreddit: 0.1058 (Slightly positive)\n",
    "#### Both subreddits have slightly positive sentiment, but the DC subreddit has a slightly higher average sentiment ### polarity compared to the MS subreddit. Although Marvel having more engagement should be taken into consideration"
   ]
  },
  {
   "cell_type": "code",
   "execution_count": 80,
   "id": "dcbbb3f2-9279-4220-b318-fb270635ca9f",
   "metadata": {
    "tags": []
   },
   "outputs": [],
   "source": [
    "from nltk.sentiment import SentimentIntensityAnalyzer"
   ]
  },
  {
   "cell_type": "code",
   "execution_count": 93,
   "id": "d7e7e5f3-bfc1-4c21-9c67-1d1ee972c1c9",
   "metadata": {
    "tags": []
   },
   "outputs": [
    {
     "data": {
      "image/png": "[encoded data removed]",
      "text/plain": [
       "<Figure size 1000x600 with 1 Axes>"
      ]
     },
     "metadata": {},
     "output_type": "display_data"
    },
    {
     "data": {
      "image/png": "[encoded data removed]",
      "text/plain": [
       "<Figure size 1000x600 with 1 Axes>"
      ]
     },
     "metadata": {},
     "output_type": "display_data"
    }
   ],
   "source": [
    "sia = SentimentIntensityAnalyzer()\n",
    "\n",
    "# Sentiment polarity analysis \n",
    "ms['Sentiment_Polarity'] = ms['Selftext'].apply(lambda text: sia.polarity_scores(str(text))['compound'])\n",
    "dc['Sentiment_Polarity'] = dc['Selftext'].apply(lambda text: sia.polarity_scores(str(text))['compound'])\n",
    "\n",
    "plt.figure(figsize=(10, 6))\n",
    "sns.histplot(data=ms, x='Sentiment_Polarity', bins=20, kde=True, color='blue')  # Set color to blue\n",
    "plt.title('Sentiment Distribution in Marvel Subreddit')\n",
    "plt.xlabel('Sentiment Polarity')\n",
    "plt.ylabel('Frequency')\n",
    "plt.show()\n",
    "\n",
    "plt.figure(figsize=(10, 6))\n",
    "sns.histplot(data=dc, x='Sentiment_Polarity', bins=20, kde=True, color='red')  # Set color to green\n",
    "plt.title('Sentiment Distribution in DC Subreddit')\n",
    "plt.xlabel('Sentiment Polarity')\n",
    "plt.ylabel('Frequency')\n",
    "plt.show()"
   ]
  },
  {
   "cell_type": "markdown",
   "id": "735e05e3-9124-45af-9c3f-84de715bd1e7",
   "metadata": {
    "tags": []
   },
   "source": [
    "## Conclusions"
   ]
  },
  {
   "cell_type": "markdown",
   "id": "ec7e6e3d-f220-4abb-949e-725da3971591",
   "metadata": {},
   "source": [
    "In conclusion, a consistent observation arising from the analysis of posts across both subreddits is the prevalence of discussions surrounding Marvel superheroes in comparison to DC superheroes. Furthermore, Marvel's iconic characters hold greater recognition than DC's except for Superman and Batman. The model's ability to maintain a high level of predictive accuracy even after eliminating dominant bi-grams and superhero names reflects its robustness in capturing meaningful patterns beyond surface-level linguistic features.\n",
    "\n",
    "Both subreddits exhibited slightly positive sentiment, with the DC subreddit showing a slightly higher average sentiment polarity compared to the Marvel subreddit. However, it's important to account for Marvel's greater engagement levels, which may influence sentiment scores. This investigation underscores the intricate dynamics of these online communities and provides valuable insights into user preferences, linguistic nuances, and sentiment tendencies within the context of the Marvel and DC universes. \n",
    "\n",
    "\n",
    "\n"
   ]
  },
  {
   "cell_type": "markdown",
   "id": "4a0eb506-7ade-4f69-a973-486171be6529",
   "metadata": {},
   "source": [
    "Marvel and DC could potentially leverage the insights derived from analyzing forums like subreddits to gain a deeper understanding of ongoing discussions and prevalent sentiments related to their respective shows. This approach holds promise for both companies to stay attuned to audience preferences and tailor their strategies more effectively."
   ]
  }
 ],
 "metadata": {
  "kernelspec": {
   "display_name": "Python 3 (ipykernel)",
   "language": "python",
   "name": "python3"
  },
  "language_info": {
   "codemirror_mode": {
    "name": "ipython",
    "version": 3
   },
   "file_extension": ".py",
   "mimetype": "text/x-python",
   "name": "python",
   "nbconvert_exporter": "python",
   "pygments_lexer": "ipython3",
   "version": "3.10.11"
  }
 },
 "nbformat": 4,
 "nbformat_minor": 5
}
